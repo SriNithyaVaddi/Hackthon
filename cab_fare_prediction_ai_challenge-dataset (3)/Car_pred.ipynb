{
 "cells": [
  {
   "cell_type": "code",
   "execution_count": null,
   "id": "9b2bf5aa",
   "metadata": {},
   "outputs": [],
   "source": [
    "import pandas as pd\n",
    "import numpy as np\n",
    "from datetime import datetime\n",
    "import plotly.express as px\n",
    "import matplotlib.pyplot as plt\n",
    "import seaborn as sns"
   ]
  },
  {
   "cell_type": "code",
   "execution_count": null,
   "id": "02b56855",
   "metadata": {},
   "outputs": [],
   "source": [
    "df = pd.read_csv('train.csv')"
   ]
  },
  {
   "cell_type": "code",
   "execution_count": null,
   "id": "b265d65e",
   "metadata": {},
   "outputs": [],
   "source": [
    "dt = pd.read_csv('test.csv')"
   ]
  },
  {
   "cell_type": "code",
   "execution_count": null,
   "id": "7276841f",
   "metadata": {},
   "outputs": [],
   "source": [
    "df.head()"
   ]
  },
  {
   "cell_type": "code",
   "execution_count": null,
   "id": "bd5e7cd9",
   "metadata": {},
   "outputs": [],
   "source": [
    "df.shape"
   ]
  },
  {
   "cell_type": "code",
   "execution_count": null,
   "id": "e3795fc1",
   "metadata": {},
   "outputs": [],
   "source": [
    "df.isnull().sum()*100/len(df)"
   ]
  },
  {
   "cell_type": "code",
   "execution_count": null,
   "id": "a44c0224",
   "metadata": {},
   "outputs": [],
   "source": [
    "df.info()"
   ]
  },
  {
   "cell_type": "code",
   "execution_count": null,
   "id": "4befc481",
   "metadata": {},
   "outputs": [],
   "source": [
    "df.describe()"
   ]
  },
  {
   "cell_type": "code",
   "execution_count": null,
   "id": "28a27938",
   "metadata": {},
   "outputs": [],
   "source": [
    "num_feature = [feature for feature in df.columns if df[feature].dtypes !='O']\n",
    "dis_feature = [feature for feature in df.columns if len(df[feature].unique()) >=25]\n",
    "con_feature = [feature for feature in df.columns if feature not in dis_feature]\n",
    "cat_feature = [feature for feature in df.columns if feature not in num_feature ]\n",
    "print(\"The Numerical feature : {}\".format(len(num_feature)))\n",
    "print(\"The Categotical feature :\" , len(cat_feature))\n",
    "print(\"The Continous feature :\" , len(con_feature))\n",
    "print(\"The Distcerte feature :\" , len(dis_feature))\n"
   ]
  },
  {
   "cell_type": "code",
   "execution_count": null,
   "id": "47ef86c5",
   "metadata": {},
   "outputs": [],
   "source": [
    "df['time_stamp'] = pd.to_datetime(df['time_stamp'])"
   ]
  },
  {
   "cell_type": "code",
   "execution_count": null,
   "id": "551db119",
   "metadata": {},
   "outputs": [],
   "source": [
    "df.head()"
   ]
  },
  {
   "cell_type": "code",
   "execution_count": null,
   "id": "9f4ef6a9",
   "metadata": {},
   "outputs": [],
   "source": [
    "dt.head()"
   ]
  },
  {
   "cell_type": "code",
   "execution_count": null,
   "id": "6907b8bc",
   "metadata": {},
   "outputs": [],
   "source": [
    "dt['time_stamp'] = pd.to_datetime(dt['time_stamp'], format=\"%Y-%m-%d\")"
   ]
  },
  {
   "cell_type": "code",
   "execution_count": null,
   "id": "afbad5f6",
   "metadata": {},
   "outputs": [],
   "source": [
    "dt.head()"
   ]
  },
  {
   "cell_type": "code",
   "execution_count": null,
   "id": "7832e928",
   "metadata": {},
   "outputs": [],
   "source": [
    "df.head()"
   ]
  },
  {
   "cell_type": "code",
   "execution_count": null,
   "id": "fa3a6b91",
   "metadata": {},
   "outputs": [],
   "source": [
    "df['cab_provider'].value_counts()"
   ]
  },
  {
   "cell_type": "code",
   "execution_count": null,
   "id": "9f771cfa",
   "metadata": {},
   "outputs": [],
   "source": [
    "df['destination'].value_counts()"
   ]
  },
  {
   "cell_type": "code",
   "execution_count": null,
   "id": "61b977fb",
   "metadata": {},
   "outputs": [],
   "source": [
    "df['cab_type'].value_counts()"
   ]
  },
  {
   "cell_type": "code",
   "execution_count": null,
   "id": "0a522bf0",
   "metadata": {},
   "outputs": [],
   "source": [
    "df['source'].value_counts()"
   ]
  },
  {
   "cell_type": "code",
   "execution_count": null,
   "id": "bfaabc28",
   "metadata": {},
   "outputs": [],
   "source": [
    "df.head()"
   ]
  },
  {
   "cell_type": "code",
   "execution_count": null,
   "id": "e3170e2a",
   "metadata": {},
   "outputs": [],
   "source": []
  },
  {
   "cell_type": "code",
   "execution_count": null,
   "id": "81f79f46",
   "metadata": {},
   "outputs": [],
   "source": [
    "df.head()"
   ]
  },
  {
   "cell_type": "code",
   "execution_count": null,
   "id": "454a38b0",
   "metadata": {},
   "outputs": [],
   "source": [
    "df.drop('index',inplace = True, axis =1)"
   ]
  },
  {
   "cell_type": "code",
   "execution_count": null,
   "id": "6caadbcb",
   "metadata": {},
   "outputs": [],
   "source": [
    "figure = sns.factorplot(data = df, kind = 'box')\n",
    "figure.fig.set_size_inches(20,10)"
   ]
  },
  {
   "cell_type": "code",
   "execution_count": null,
   "id": "02d3afe4",
   "metadata": {},
   "outputs": [],
   "source": [
    "fig = plt.figure(figsize = (10, 5))\n",
    " \n",
    "# creating the bar plot\n",
    "plt.bar(df['cab_provider'], df['fare'], color ='teal',data = df,\n",
    "        width = 0.4)\n",
    " \n",
    "plt.xlabel(\"Cabs Povided\")\n",
    "plt.ylabel(\"Fare for each cab\")\n",
    "plt.title(\"Uber and lyft providing fare prices\")\n",
    "plt.show()"
   ]
  },
  {
   "cell_type": "code",
   "execution_count": null,
   "id": "989f283f",
   "metadata": {},
   "outputs": [],
   "source": [
    "fig = plt.figure(figsize = (10, 5))\n",
    " \n",
    "# creating the bar plot\n",
    "plt.bar(df['cab_type'], df['fare'], color ='midnightblue',data = df,\n",
    "        width = 0.4)\n",
    " \n",
    "plt.xlabel(\"cab_type\")\n",
    "plt.ylabel(\"Fare for each cab_type\")\n",
    "plt.title(\"Uber and lyft providing fare prices\")\n",
    "plt.show()"
   ]
  },
  {
   "cell_type": "code",
   "execution_count": null,
   "id": "dc1e4f1f",
   "metadata": {},
   "outputs": [],
   "source": [
    "fig = plt.figure(figsize = (10, 5))\n",
    " \n",
    "# creating the bar plot\n",
    "sns.barplot(x = df['cab_type'], y = df['distance'],data = df, hue = 'fare')\n",
    " \n",
    "plt.xlabel(\"cab_type\")\n",
    "plt.ylabel(\"Fare for each cab_type\")\n",
    "plt.title(\"Uber and lyft providing fare prices\")\n",
    "plt.show()"
   ]
  },
  {
   "cell_type": "code",
   "execution_count": null,
   "id": "45feea51",
   "metadata": {},
   "outputs": [],
   "source": [
    "fig = plt.figure(figsize = (10, 5))\n",
    " \n",
    "# creating the bar plot\n",
    "sns.barplot(x = df['cab_type'], y = df['surge_multiplier'],data = df, hue = 'fare')\n",
    " \n",
    "plt.xlabel(\"cab_type\")\n",
    "plt.ylabel(\"Fare for each surge_multiplier\")\n",
    "plt.title(\"surge_multiplier providing fare prices\")"
   ]
  },
  {
   "cell_type": "code",
   "execution_count": null,
   "id": "b9fdfa1c",
   "metadata": {},
   "outputs": [],
   "source": [
    "fig = px.pie(df, values='surge_multiplier', names='cab_type', title='Source_Desination of surge_multiplier', color = 'distance')\n",
    "fig.show()"
   ]
  },
  {
   "cell_type": "code",
   "execution_count": null,
   "id": "08644a27",
   "metadata": {},
   "outputs": [],
   "source": [
    "fig = px.pie(df, values='fare', names='cab_type', title='cabtype of fare', color = 'fare')\n",
    "fig.show()"
   ]
  },
  {
   "cell_type": "code",
   "execution_count": null,
   "id": "1ff3af5c",
   "metadata": {},
   "outputs": [],
   "source": [
    "fig = px.pie(df, values='distance', names='cab_type', title='cab_type and distance', color = 'distance')\n",
    "fig.show()"
   ]
  },
  {
   "cell_type": "code",
   "execution_count": null,
   "id": "67a558ca",
   "metadata": {},
   "outputs": [],
   "source": [
    "df.groupby(['distance'])['fare'].mean().plot()"
   ]
  },
  {
   "cell_type": "code",
   "execution_count": null,
   "id": "7502bb96",
   "metadata": {},
   "outputs": [],
   "source": [
    "df.groupby(['surge_multiplier'])['fare'].mean().plot()"
   ]
  },
  {
   "cell_type": "code",
   "execution_count": null,
   "id": "2c43105d",
   "metadata": {},
   "outputs": [],
   "source": [
    "sns.distplot(df['distance'],kde=False)"
   ]
  },
  {
   "cell_type": "code",
   "execution_count": null,
   "id": "87a9705c",
   "metadata": {},
   "outputs": [],
   "source": [
    "df.head()"
   ]
  },
  {
   "cell_type": "code",
   "execution_count": null,
   "id": "05d9c12b",
   "metadata": {},
   "outputs": [],
   "source": [
    "df['Year']  = df['time_stamp'].dt.year"
   ]
  },
  {
   "cell_type": "code",
   "execution_count": null,
   "id": "f52cdb45",
   "metadata": {},
   "outputs": [],
   "source": [
    "df.head()"
   ]
  },
  {
   "cell_type": "code",
   "execution_count": null,
   "id": "8b7d1a1b",
   "metadata": {},
   "outputs": [],
   "source": [
    "df['Month']  = df['time_stamp'].dt.month"
   ]
  },
  {
   "cell_type": "code",
   "execution_count": null,
   "id": "f3535bf0",
   "metadata": {},
   "outputs": [],
   "source": [
    "df.head()"
   ]
  },
  {
   "cell_type": "code",
   "execution_count": null,
   "id": "3c9d736d",
   "metadata": {},
   "outputs": [],
   "source": [
    "df.tail()"
   ]
  },
  {
   "cell_type": "code",
   "execution_count": null,
   "id": "2b894e74",
   "metadata": {},
   "outputs": [],
   "source": []
  },
  {
   "cell_type": "code",
   "execution_count": null,
   "id": "576a9e94",
   "metadata": {},
   "outputs": [],
   "source": [
    "dataset = pd.concat([df,dt], axis=1)"
   ]
  },
  {
   "cell_type": "code",
   "execution_count": null,
   "id": "dda913ac",
   "metadata": {},
   "outputs": [],
   "source": [
    "dataset"
   ]
  },
  {
   "cell_type": "code",
   "execution_count": null,
   "id": "8f8ddd86",
   "metadata": {},
   "outputs": [],
   "source": [
    "dataset = dataset.loc[:,~dataset.columns.duplicated()]"
   ]
  },
  {
   "cell_type": "code",
   "execution_count": null,
   "id": "f1839d33",
   "metadata": {},
   "outputs": [],
   "source": [
    "dataset"
   ]
  },
  {
   "cell_type": "code",
   "execution_count": null,
   "id": "27aeb2ab",
   "metadata": {},
   "outputs": [],
   "source": [
    "dataset.isnull().sum()"
   ]
  },
  {
   "cell_type": "code",
   "execution_count": null,
   "id": "fa56a516",
   "metadata": {},
   "outputs": [],
   "source": [
    "dataset.drop('index', inplace = True, axis =1)"
   ]
  },
  {
   "cell_type": "code",
   "execution_count": null,
   "id": "ea0c1911",
   "metadata": {},
   "outputs": [],
   "source": [
    "dataset['surge_multiplier'].value_counts()"
   ]
  },
  {
   "cell_type": "code",
   "execution_count": null,
   "id": "f7c339b8",
   "metadata": {},
   "outputs": [],
   "source": [
    "dataset.drop(['Year','Month','time_stamp'], inplace = True, axis =1)"
   ]
  },
  {
   "cell_type": "code",
   "execution_count": null,
   "id": "d77e85ff",
   "metadata": {},
   "outputs": [],
   "source": [
    "dataset.head()"
   ]
  },
  {
   "cell_type": "code",
   "execution_count": null,
   "id": "d9da14ed",
   "metadata": {},
   "outputs": [],
   "source": [
    "dataset.groupby(['source','destination'])['distance'].count()"
   ]
  },
  {
   "cell_type": "code",
   "execution_count": null,
   "id": "4ca55eff",
   "metadata": {},
   "outputs": [],
   "source": [
    "dataset.groupby(['source','destination'])['surge_multiplier'].count()"
   ]
  },
  {
   "cell_type": "code",
   "execution_count": null,
   "id": "55e72d7c",
   "metadata": {},
   "outputs": [],
   "source": [
    "dataset['Source_Desination'] =dataset['source'] + '::' + dataset['destination']"
   ]
  },
  {
   "cell_type": "code",
   "execution_count": null,
   "id": "ac5026f4",
   "metadata": {},
   "outputs": [],
   "source": [
    "dataset['Source_Desination'].value_counts()"
   ]
  },
  {
   "cell_type": "code",
   "execution_count": null,
   "id": "97b9a3d7",
   "metadata": {},
   "outputs": [],
   "source": [
    "dataset['Source_Desination'].sort_values().unique()"
   ]
  },
  {
   "cell_type": "code",
   "execution_count": null,
   "id": "acfa0964",
   "metadata": {},
   "outputs": [],
   "source": [
    "dataset.head()"
   ]
  },
  {
   "cell_type": "code",
   "execution_count": null,
   "id": "d29bcf8d",
   "metadata": {},
   "outputs": [],
   "source": [
    "dataset.drop(['source', 'destination'], inplace = True, axis =1)"
   ]
  },
  {
   "cell_type": "code",
   "execution_count": null,
   "id": "b508d788",
   "metadata": {},
   "outputs": [],
   "source": [
    "dataset.groupby(dataset['Source_Desination'])['distance'].describe()"
   ]
  },
  {
   "cell_type": "code",
   "execution_count": null,
   "id": "fdcdd93b",
   "metadata": {},
   "outputs": [],
   "source": [
    "dataset.groupby(dataset['Source_Desination'])['fare'].describe()"
   ]
  },
  {
   "cell_type": "code",
   "execution_count": null,
   "id": "df3cfe7f",
   "metadata": {},
   "outputs": [],
   "source": [
    " dataset.groupby(dataset['Source_Desination'])['surge_multiplier'].describe()"
   ]
  },
  {
   "cell_type": "code",
   "execution_count": null,
   "id": "9dcb36a5",
   "metadata": {},
   "outputs": [],
   "source": [
    "dataset.head()"
   ]
  },
  {
   "cell_type": "code",
   "execution_count": null,
   "id": "7a0fd42c",
   "metadata": {},
   "outputs": [],
   "source": [
    "fig = px.pie(dataset, values='fare', names='Source_Desination', title='Source_Desination of fare', color = 'Source_Desination')\n",
    "fig.show()"
   ]
  },
  {
   "cell_type": "code",
   "execution_count": null,
   "id": "bbf2344e",
   "metadata": {},
   "outputs": [],
   "source": [
    "fig = px.pie(dataset, values='distance', names='Source_Desination', title='Source_Desination of fare', color = 'Source_Desination')\n",
    "fig.show()"
   ]
  },
  {
   "cell_type": "code",
   "execution_count": null,
   "id": "d0be22d9",
   "metadata": {},
   "outputs": [],
   "source": [
    "fig = px.pie(dataset, values='distance', names='Source_Desination', title='Source_Desination of fare', color = 'distance')\n",
    "fig.show()"
   ]
  },
  {
   "cell_type": "code",
   "execution_count": null,
   "id": "1fe57527",
   "metadata": {},
   "outputs": [],
   "source": [
    "corr_mat=dataset.corr()\n",
    "mask=np.array(corr_mat)\n",
    "fig=plt.gcf()\n",
    "fig.set_size_inches(30,12)\n",
    "sns.heatmap(data=corr_mat,annot=True,cbar=True,square=True)"
   ]
  },
  {
   "cell_type": "code",
   "execution_count": null,
   "id": "70d97e03",
   "metadata": {},
   "outputs": [],
   "source": [
    "from sklearn import preprocessing"
   ]
  },
  {
   "cell_type": "code",
   "execution_count": null,
   "id": "06057fcd",
   "metadata": {},
   "outputs": [],
   "source": [
    "lc = preprocessing.LabelEncoder()"
   ]
  },
  {
   "cell_type": "code",
   "execution_count": null,
   "id": "1eb1c116",
   "metadata": {},
   "outputs": [],
   "source": [
    "dataset.head(1)"
   ]
  },
  {
   "cell_type": "code",
   "execution_count": null,
   "id": "14edd50b",
   "metadata": {},
   "outputs": [],
   "source": [
    "dataset['cab_type'] = lc.fit_transform(dataset['cab_type'])"
   ]
  },
  {
   "cell_type": "code",
   "execution_count": null,
   "id": "e3b9d36d",
   "metadata": {},
   "outputs": [],
   "source": [
    "dataset.head(1)"
   ]
  },
  {
   "cell_type": "code",
   "execution_count": null,
   "id": "31f11ac8",
   "metadata": {},
   "outputs": [],
   "source": [
    "dataset['cab_provider'] = lc.fit_transform(dataset['cab_provider'])"
   ]
  },
  {
   "cell_type": "code",
   "execution_count": null,
   "id": "36715a97",
   "metadata": {},
   "outputs": [],
   "source": [
    "dataset.head()"
   ]
  },
  {
   "cell_type": "code",
   "execution_count": null,
   "id": "c6269d8d",
   "metadata": {},
   "outputs": [],
   "source": [
    "dataset.drop('Source_Desination', inplace = True, axis =1)"
   ]
  },
  {
   "cell_type": "code",
   "execution_count": null,
   "id": "681409b1",
   "metadata": {},
   "outputs": [],
   "source": [
    "x = dataset.drop('fare', axis =1)"
   ]
  },
  {
   "cell_type": "code",
   "execution_count": null,
   "id": "cc0477a2",
   "metadata": {},
   "outputs": [],
   "source": [
    "x"
   ]
  },
  {
   "cell_type": "code",
   "execution_count": null,
   "id": "dc8d6353",
   "metadata": {},
   "outputs": [],
   "source": [
    "y = dataset['fare']"
   ]
  },
  {
   "cell_type": "code",
   "execution_count": null,
   "id": "2c665ae3",
   "metadata": {},
   "outputs": [],
   "source": [
    "y"
   ]
  },
  {
   "cell_type": "code",
   "execution_count": null,
   "id": "db8f136e",
   "metadata": {},
   "outputs": [],
   "source": [
    "print(\"Skewness: %f\" % dataset['fare'].skew())\n",
    "print(\"Kurtosis: %f\" % dataset['fare'].kurt())"
   ]
  },
  {
   "cell_type": "code",
   "execution_count": null,
   "id": "e24302df",
   "metadata": {},
   "outputs": [],
   "source": [
    "from sklearn.model_selection import train_test_split"
   ]
  },
  {
   "cell_type": "code",
   "execution_count": null,
   "id": "49b67386",
   "metadata": {},
   "outputs": [],
   "source": [
    "x_train,x_test,y_train,y_test = train_test_split(x,y, test_size = 0.33, random_state = 1)"
   ]
  },
  {
   "cell_type": "code",
   "execution_count": null,
   "id": "d8f63b0f",
   "metadata": {},
   "outputs": [],
   "source": [
    "from sklearn.preprocessing import StandardScaler\n",
    "sc = StandardScaler()\n",
    "x_train = sc.fit_transform(x_train)\n",
    "x_test = sc.transform(x_test)"
   ]
  },
  {
   "cell_type": "code",
   "execution_count": null,
   "id": "4c54cca1",
   "metadata": {},
   "outputs": [],
   "source": [
    "scaler_x = StandardScaler()\n",
    "scaler_y = StandardScaler() "
   ]
  },
  {
   "cell_type": "code",
   "execution_count": null,
   "id": "d0daa1b7",
   "metadata": {},
   "outputs": [],
   "source": [
    "from sklearn.ensemble import RandomForestRegressor"
   ]
  },
  {
   "cell_type": "code",
   "execution_count": null,
   "id": "0876ed7b",
   "metadata": {},
   "outputs": [],
   "source": [
    "regressor = RandomForestRegressor(n_estimators = 100, random_state = 0)"
   ]
  },
  {
   "cell_type": "code",
   "execution_count": null,
   "id": "a58c12c0",
   "metadata": {},
   "outputs": [],
   "source": [
    "regressor.fit(x_train,y_train)"
   ]
  },
  {
   "cell_type": "code",
   "execution_count": null,
   "id": "8602df68",
   "metadata": {},
   "outputs": [],
   "source": [
    "y_pred = regressor.predict(x_test)"
   ]
  },
  {
   "cell_type": "code",
   "execution_count": null,
   "id": "02443457",
   "metadata": {},
   "outputs": [],
   "source": [
    "mse = np.square(np.subtract(y_test,y_pred)).mean()"
   ]
  },
  {
   "cell_type": "code",
   "execution_count": null,
   "id": "b359a690",
   "metadata": {},
   "outputs": [],
   "source": [
    "mse"
   ]
  },
  {
   "cell_type": "code",
   "execution_count": null,
   "id": "e2a51849",
   "metadata": {},
   "outputs": [],
   "source": [
    "root_mean_squared_error = sqrt(mean_squared_error(y_test,y_pred))"
   ]
  },
  {
   "cell_type": "code",
   "execution_count": null,
   "id": "da2735dc",
   "metadata": {},
   "outputs": [],
   "source": [
    "root_mean_squared_error"
   ]
  },
  {
   "cell_type": "code",
   "execution_count": null,
   "id": "2b3aa7e1",
   "metadata": {},
   "outputs": [],
   "source": [
    "\n",
    "scaled_X = sc.transform(x)"
   ]
  },
  {
   "cell_type": "code",
   "execution_count": null,
   "id": "1b4d3814",
   "metadata": {},
   "outputs": [],
   "source": [
    "y_predd = regressor.predict(scaled_X)"
   ]
  },
  {
   "cell_type": "code",
   "execution_count": null,
   "id": "b6627d00",
   "metadata": {},
   "outputs": [],
   "source": [
    "y_predd = pd.DataFrame(y_pred)"
   ]
  },
  {
   "cell_type": "code",
   "execution_count": null,
   "id": "6dbce6eb",
   "metadata": {},
   "outputs": [],
   "source": [
    "y_predd"
   ]
  },
  {
   "cell_type": "code",
   "execution_count": null,
   "id": "ca5f24fb",
   "metadata": {},
   "outputs": [],
   "source": [
    "y_predd.to_csv('output.csv',header=['fare'],index_label='index')"
   ]
  },
  {
   "cell_type": "code",
   "execution_count": null,
   "id": "ae9e5775",
   "metadata": {},
   "outputs": [],
   "source": []
  }
 ],
 "metadata": {
  "kernelspec": {
   "display_name": "ml",
   "language": "python",
   "name": "myenv"
  },
  "language_info": {
   "codemirror_mode": {
    "name": "ipython",
    "version": 3
   },
   "file_extension": ".py",
   "mimetype": "text/x-python",
   "name": "python",
   "nbconvert_exporter": "python",
   "pygments_lexer": "ipython3",
   "version": "3.8.5"
  }
 },
 "nbformat": 4,
 "nbformat_minor": 5
}
